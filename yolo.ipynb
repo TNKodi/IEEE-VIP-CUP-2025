{
 "cells": [
  {
   "cell_type": "markdown",
   "id": "d5486b4a",
   "metadata": {},
   "source": [
    "# 🚀 Dataset Splitter for YOLO11\n",
    "\n",
    "This notebook will:\n",
    "1. Read all images (`.jpg`/`.png`) and their matching YOLO `.txt` labels from a **single** folder.\n",
    "2. Shuffle and split them into **train (70%)**, **val (20%)**, and **test (10%)** subfolders.\n",
    "3. Generate a `drone.yaml` pointing at your `images/*` splits and setting up 2 classes (`bird`"
   ]
  },
  {
   "cell_type": "code",
   "execution_count": 1,
   "id": "303b6696",
   "metadata": {},
   "outputs": [],
   "source": [
    "import os, random, shutil\n",
    "from tqdm import tqdm   # remove this line if you didn't install tqdm"
   ]
  },
  {
   "cell_type": "code",
   "execution_count": 2,
   "id": "9d45941d",
   "metadata": {},
   "outputs": [],
   "source": [
    "# 1. SETTINGS — edit these:\n",
    "SRC_DIR     = 'datasets'      # folder containing both .jpg/.png and .txt files\n",
    "TRAIN_RATIO = 0.7           # 70% train\n",
    "VAL_RATIO   = 0.2           # 20% val\n",
    "# (test will be the remaining 10%)"
   ]
  },
  {
   "cell_type": "markdown",
   "id": "56adb2bc",
   "metadata": {},
   "source": [
    "### 📂 Create the `train/val/test` subfolders\n",
    "\n",
    "We need `Daraset/All/train/images`, `dataset/train/labels`, etc."
   ]
  },
  {
   "cell_type": "code",
   "execution_count": 3,
   "id": "0bc081c7",
   "metadata": {},
   "outputs": [
    {
     "name": "stdout",
     "output_type": "stream",
     "text": [
      "✓ Created train/val/test folders under datasets\n"
     ]
    }
   ],
   "source": [
    "# Cell 2: Create target folders\n",
    "for split in ('train','val','test'):\n",
    "    os.makedirs(os.path.join(SRC_DIR, split, 'images'), exist_ok=True)\n",
    "    os.makedirs(os.path.join(SRC_DIR, split, 'labels'), exist_ok=True)\n",
    "print(\"✓ Created train/val/test folders under\", SRC_DIR)"
   ]
  },
  {
   "cell_type": "markdown",
   "id": "48413af3",
   "metadata": {},
   "source": [
    "### 🔍 Gather & Shuffle Filenames\n",
    "\n",
    "List out all image files, shuffle with a fixed seed for reproducibility, and compute split sizes.\n"
   ]
  },
  {
   "cell_type": "code",
   "execution_count": 4,
   "id": "54946526",
   "metadata": {},
   "outputs": [
    {
     "name": "stdout",
     "output_type": "stream",
     "text": [
      "Total images: 0\n",
      " → Train: 0, Val: 0, Test: 0\n"
     ]
    }
   ],
   "source": [
    "# Cell 3: Gather & shuffle image filenames\n",
    "all_files = os.listdir(SRC_DIR)\n",
    "images    = [f for f in all_files if f.lower().endswith(('.jpg','.png'))]\n",
    "random.seed(42)\n",
    "random.shuffle(images)\n",
    "\n",
    "n = len(images)\n",
    "n_train = int(TRAIN_RATIO * n)\n",
    "n_val   = int(VAL_RATIO   * n)\n",
    "\n",
    "train_imgs = images[:n_train]\n",
    "val_imgs   = images[n_train:n_train + n_val]\n",
    "test_imgs  = images[n_train + n_val:]\n",
    "\n",
    "print(f\"Total images: {n}\")\n",
    "print(f\" → Train: {len(train_imgs)}, Val: {len(val_imgs)}, Test: {len(test_imgs)}\")\n"
   ]
  },
  {
   "cell_type": "markdown",
   "id": "d1f096c4",
   "metadata": {},
   "source": [
    "### 🚚 Move Images & Labels into Splits\n",
    "\n",
    "For each subset, move the image and its `.txt` label into the proper folder.\n"
   ]
  },
  {
   "cell_type": "code",
   "execution_count": 5,
   "id": "2ca4cfbb",
   "metadata": {},
   "outputs": [
    {
     "name": "stderr",
     "output_type": "stream",
     "text": [
      "Moving train: 0it [00:00, ?it/s]\n",
      "Moving val: 0it [00:00, ?it/s]\n",
      "Moving test: 0it [00:00, ?it/s]"
     ]
    },
    {
     "name": "stdout",
     "output_type": "stream",
     "text": [
      "✅ Files moved!\n"
     ]
    },
    {
     "name": "stderr",
     "output_type": "stream",
     "text": [
      "\n"
     ]
    }
   ],
   "source": [
    "# Cell 4: Move files into their splits\n",
    "def move_subset(img_list, subset):\n",
    "    for img in tqdm(img_list, desc=f\"Moving {subset}\"):\n",
    "        base = os.path.splitext(img)[0]\n",
    "        lbl  = base + '.txt'\n",
    "        # source\n",
    "        img_src = os.path.join(SRC_DIR, img)\n",
    "        lbl_src = os.path.join(SRC_DIR, lbl)\n",
    "        # destination\n",
    "        img_dst = os.path.join(SRC_DIR, subset, 'images', img)\n",
    "        lbl_dst = os.path.join(SRC_DIR, subset, 'labels', lbl)\n",
    "        # move\n",
    "        shutil.move(img_src, img_dst)\n",
    "        shutil.move(lbl_src, lbl_dst)\n",
    "\n",
    "move_subset(train_imgs, 'train')\n",
    "move_subset(val_imgs,   'val')\n",
    "move_subset(test_imgs,  'test')\n",
    "\n",
    "print(\"✅ Files moved!\")\n"
   ]
  },
  {
   "cell_type": "markdown",
   "id": "f5636697",
   "metadata": {},
   "source": [
    "### 📝 Generate the `drone.yaml` Config\n",
    "\n",
    "This YAML tells YOLO where to find each split and what classes you have.\n"
   ]
  },
  {
   "cell_type": "code",
   "execution_count": 6,
   "id": "69cce355",
   "metadata": {},
   "outputs": [
    {
     "name": "stdout",
     "output_type": "stream",
     "text": [
      "Created: datasets\\drone.yaml\n",
      "\n",
      "train: datasets/train/images\n",
      "val:   datasets/val/images\n",
      "test:  datasets/test/images\n",
      "\n",
      "nc: 2\n",
      "names:\n",
      "  0: bird\n",
      "  1: drone\n",
      "\n"
     ]
    }
   ],
   "source": [
    "# 1) Normalize SRC_DIR to a POSIX style path\n",
    "posix_dir = SRC_DIR.replace('\\\\', '/')\n",
    "\n",
    "# 2) Build the YAML text without backslashes in the f-string expressions\n",
    "yaml_text = (\n",
    "    f\"train: {posix_dir}/train/images\\n\"\n",
    "    f\"val:   {posix_dir}/val/images\\n\"\n",
    "    f\"test:  {posix_dir}/test/images\\n\\n\"\n",
    "    \"nc: 2\\n\"\n",
    "    \"names:\\n\"\n",
    "    \"  0: bird\\n\"\n",
    "    \"  1: drone\\n\"\n",
    ")\n",
    "\n",
    "# 3) Write it out\n",
    "yaml_path = os.path.join(SRC_DIR, 'drone.yaml')\n",
    "with open(yaml_path, 'w') as f:\n",
    "    f.write(yaml_text)\n",
    "\n",
    "# 4) Verify\n",
    "print(\"Created:\", yaml_path)\n",
    "print()\n",
    "print(yaml_text)\n"
   ]
  },
  {
   "cell_type": "markdown",
   "id": "61198505",
   "metadata": {},
   "source": [
    "### 📦 6. Install Ultralytics and Import YOLO\n",
    "We need the `ultralytics` package (which includes YOLO11) and to import the Python API."
   ]
  },
  {
   "cell_type": "code",
   "execution_count": 7,
   "id": "dbdb3cc5",
   "metadata": {},
   "outputs": [],
   "source": [
    "!pip install ultralytics --quiet\n",
    "\n",
    "from ultralytics import YOLO\n",
    "import os\n",
    "# make sure drone.yaml is on the Python path\n",
    "DATA_YAML = os.path.join(SRC_DIR, 'drone.yaml')"
   ]
  },
  {
   "cell_type": "markdown",
   "id": "379635f2",
   "metadata": {},
   "source": [
    "### 🚀 7. Train the YOLO11 Model\n",
    "Start from the medium (`yolo11m.pt`) pretrained weights.  \n",
    "Feel free to adjust `epochs`, `imgsz`, `batch`, and `lr0` to suit your GPU.\n"
   ]
  },
  {
   "cell_type": "code",
   "execution_count": 8,
   "id": "43d8b186",
   "metadata": {},
   "outputs": [
    {
     "name": "stdout",
     "output_type": "stream",
     "text": [
      "Using device: cuda\n",
      "cuda:0\n"
     ]
    }
   ],
   "source": [
    "# Cell 1: Install & Imports\n",
    "!pip install ultralytics --quiet\n",
    "\n",
    "import torch\n",
    "from ultralytics import YOLO\n",
    "\n",
    "# detect device\n",
    "device = 'cuda' if torch.cuda.is_available() else 'cpu'\n",
    "print(f\"Using device: {device}\")\n",
    "\n",
    "model= YOLO('yolo11n.pt')  # load a pretrained model\n",
    "model.to(device)          # move to GPU if available\n",
    "print(model.device)\n",
    "\n",
    "\n"
   ]
  },
  {
   "cell_type": "code",
   "execution_count": 9,
   "id": "fe253271",
   "metadata": {},
   "outputs": [
    {
     "name": "stdout",
     "output_type": "stream",
     "text": [
      "Using device: cuda\n",
      "Device number: 0\n",
      "Gpu name: NVIDIA GeForce RTX 3060 Laptop GPU\n",
      "Using device: cuda\n"
     ]
    }
   ],
   "source": [
    "import torch\n",
    "\n",
    "\n",
    "\n",
    "device1 = torch.device(\"cuda\" if torch.cuda.is_available() else \"cpu\")\n",
    "print(f\"Using device: {device1}\")  # Check if CUDA is available and print the device being used  \n",
    "\n",
    "devNumber= torch.cuda.current_device() \n",
    "print(f\"Device number: {devNumber}\")  # Print the device number being used\n",
    "denName= torch.cuda.get_device_name(devNumber)\n",
    "print(f\"Gpu name: {denName}\")  # Print the name of the device being used\n",
    "\n",
    "device = 'cuda' if torch.cuda.is_available() else 'cpu'\n",
    "print(f\"Using device: {device}\")"
   ]
  },
  {
   "cell_type": "code",
   "execution_count": null,
   "id": "de82ab79",
   "metadata": {},
   "outputs": [],
   "source": []
  },
  {
   "cell_type": "code",
   "execution_count": null,
   "id": "55419fd8",
   "metadata": {},
   "outputs": [
    {
     "ename": "",
     "evalue": "",
     "output_type": "error",
     "traceback": [
      "\u001b[1;31mThe Kernel crashed while executing code in the current cell or a previous cell. \n",
      "\u001b[1;31mPlease review the code in the cell(s) to identify a possible cause of the failure. \n",
      "\u001b[1;31mClick <a href='https://aka.ms/vscodeJupyterKernelCrash'>here</a> for more info. \n",
      "\u001b[1;31mView Jupyter <a href='command:jupyter.viewOutput'>log</a> for further details."
     ]
    }
   ],
   "source": [
    "!pip install matplotlib --quiet\n"
   ]
  },
  {
   "cell_type": "code",
   "execution_count": null,
   "id": "fd6e68a6",
   "metadata": {},
   "outputs": [
    {
     "name": "stdout",
     "output_type": "stream",
     "text": [
      "Total iterations per epoch: 1800\n",
      "Using device: cuda\n",
      "Starting Epoch 1/10\n",
      "New https://pypi.org/project/ultralytics/8.3.131 available  Update with 'pip install -U ultralytics'\n",
      "\u001b[34m\u001b[1mengine\\trainer: \u001b[0magnostic_nms=False, amp=True, augment=False, auto_augment=randaugment, batch=16, bgr=0.0, box=7.5, cache=False, cfg=None, classes=None, close_mosaic=10, cls=0.5, conf=None, copy_paste=0.0, copy_paste_mode=flip, cos_lr=False, cutmix=0.0, data=drone.yaml, degrees=0.0, deterministic=True, device=None, dfl=1.5, dnn=False, dropout=0.0, dynamic=False, embed=None, epochs=1, erasing=0.4, exist_ok=False, fliplr=0.5, flipud=0.0, format=torchscript, fraction=1.0, freeze=None, half=False, hsv_h=0.015, hsv_s=0.7, hsv_v=0.4, imgsz=320, int8=False, iou=0.7, keras=False, kobj=1.0, line_width=None, lr0=0.01, lrf=0.01, mask_ratio=4, max_det=300, mixup=0.0, mode=train, model=yolo11n.pt, momentum=0.937, mosaic=1.0, multi_scale=False, name=train3, nbs=64, nms=False, opset=None, optimize=False, optimizer=auto, overlap_mask=True, patience=100, perspective=0.0, plots=True, pose=12.0, pretrained=True, profile=False, project=None, rect=False, resume=False, retina_masks=False, save=True, save_conf=False, save_crop=False, save_dir=runs\\detect\\train3, save_frames=False, save_json=False, save_period=-1, save_txt=False, scale=0.5, seed=0, shear=0.0, show=False, show_boxes=True, show_conf=True, show_labels=True, simplify=True, single_cls=False, source=None, split=val, stream_buffer=False, task=detect, time=None, tracker=botsort.yaml, translate=0.1, val=True, verbose=True, vid_stride=1, visualize=False, warmup_bias_lr=0.1, warmup_epochs=3.0, warmup_momentum=0.8, weight_decay=0.0005, workers=8, workspace=None\n",
      "Overriding model.yaml nc=80 with nc=2\n",
      "\n",
      "                   from  n    params  module                                       arguments                     \n",
      "  0                  -1  1       464  ultralytics.nn.modules.conv.Conv             [3, 16, 3, 2]                 \n",
      "  1                  -1  1      4672  ultralytics.nn.modules.conv.Conv             [16, 32, 3, 2]                \n",
      "  2                  -1  1      6640  ultralytics.nn.modules.block.C3k2            [32, 64, 1, False, 0.25]      \n",
      "  3                  -1  1     36992  ultralytics.nn.modules.conv.Conv             [64, 64, 3, 2]                \n",
      "  4                  -1  1     26080  ultralytics.nn.modules.block.C3k2            [64, 128, 1, False, 0.25]     \n",
      "  5                  -1  1    147712  ultralytics.nn.modules.conv.Conv             [128, 128, 3, 2]              \n",
      "  6                  -1  1     87040  ultralytics.nn.modules.block.C3k2            [128, 128, 1, True]           \n",
      "  7                  -1  1    295424  ultralytics.nn.modules.conv.Conv             [128, 256, 3, 2]              \n",
      "  8                  -1  1    346112  ultralytics.nn.modules.block.C3k2            [256, 256, 1, True]           \n",
      "  9                  -1  1    164608  ultralytics.nn.modules.block.SPPF            [256, 256, 5]                 \n",
      " 10                  -1  1    249728  ultralytics.nn.modules.block.C2PSA           [256, 256, 1]                 \n",
      " 11                  -1  1         0  torch.nn.modules.upsampling.Upsample         [None, 2, 'nearest']          \n",
      " 12             [-1, 6]  1         0  ultralytics.nn.modules.conv.Concat           [1]                           \n",
      " 13                  -1  1    111296  ultralytics.nn.modules.block.C3k2            [384, 128, 1, False]          \n",
      " 14                  -1  1         0  torch.nn.modules.upsampling.Upsample         [None, 2, 'nearest']          \n",
      " 15             [-1, 4]  1         0  ultralytics.nn.modules.conv.Concat           [1]                           \n",
      " 16                  -1  1     32096  ultralytics.nn.modules.block.C3k2            [256, 64, 1, False]           \n",
      " 17                  -1  1     36992  ultralytics.nn.modules.conv.Conv             [64, 64, 3, 2]                \n",
      " 18            [-1, 13]  1         0  ultralytics.nn.modules.conv.Concat           [1]                           \n",
      " 19                  -1  1     86720  ultralytics.nn.modules.block.C3k2            [192, 128, 1, False]          \n",
      " 20                  -1  1    147712  ultralytics.nn.modules.conv.Conv             [128, 128, 3, 2]              \n",
      " 21            [-1, 10]  1         0  ultralytics.nn.modules.conv.Concat           [1]                           \n",
      " 22                  -1  1    378880  ultralytics.nn.modules.block.C3k2            [384, 256, 1, True]           \n",
      " 23        [16, 19, 22]  1    431062  ultralytics.nn.modules.head.Detect           [2, [64, 128, 256]]           \n",
      "YOLO11n summary: 181 layers, 2,590,230 parameters, 2,590,214 gradients, 6.4 GFLOPs\n",
      "\n",
      "Transferred 448/499 items from pretrained weights\n",
      "Freezing layer 'model.23.dfl.conv.weight'\n",
      "\u001b[34m\u001b[1mAMP: \u001b[0mrunning Automatic Mixed Precision (AMP) checks...\n",
      "\u001b[34m\u001b[1mAMP: \u001b[0mchecks passed \n",
      "\u001b[34m\u001b[1mtrain: \u001b[0mFast image access  (ping: 0.10.0 ms, read: 0.70.5 MB/s, size: 6.9 KB)\n"
     ]
    },
    {
     "name": "stderr",
     "output_type": "stream",
     "text": [
      "\u001b[34m\u001b[1mtrain: \u001b[0mScanning E:\\Yolo 11 Model Train\\datasets\\train\\labels... 40306 images, 0 backgrounds, 0 corrupt: 100%|██████████| 40306/40306 [01:56<00:00, 345.94it/s]\n"
     ]
    },
    {
     "name": "stdout",
     "output_type": "stream",
     "text": [
      "\u001b[34m\u001b[1mtrain: \u001b[0mNew cache created: E:\\Yolo 11 Model Train\\datasets\\train\\labels.cache\n",
      "\u001b[34m\u001b[1mval: \u001b[0mFast image access  (ping: 0.20.2 ms, read: 1.00.3 MB/s, size: 7.3 KB)\n"
     ]
    },
    {
     "name": "stderr",
     "output_type": "stream",
     "text": [
      "\u001b[34m\u001b[1mval: \u001b[0mScanning E:\\Yolo 11 Model Train\\datasets\\val\\labels... 11516 images, 0 backgrounds, 0 corrupt: 100%|██████████| 11516/11516 [00:33<00:00, 341.22it/s]\n"
     ]
    },
    {
     "name": "stdout",
     "output_type": "stream",
     "text": [
      "\u001b[34m\u001b[1mval: \u001b[0mNew cache created: E:\\Yolo 11 Model Train\\datasets\\val\\labels.cache\n",
      "Plotting labels to runs\\detect\\train3\\labels.jpg... \n"
     ]
    }
   ],
   "source": [
    "# ── Cell 2: Epoch-wise training with explicit GPU use ───────────────\n",
    "\n",
    "from math import ceil\n",
    "import torch\n",
    "import time\n",
    "from ultralytics import YOLO\n",
    "\n",
    "\n",
    "batch_size = 16\n",
    "\n",
    "total_iterations_per_epoch = 1800\n",
    "print(f\"Total iterations per epoch: {total_iterations_per_epoch}\")\n",
    "\n",
    "device = torch.device(\"cuda\" if torch.cuda.is_available() else \"cpu\")\n",
    "print(f\"Using device: {device}\")\n",
    "model = YOLO(\"yolo11n.pt\") \n",
    "\n",
    "for epoch in range(10):\n",
    "    print(f\"Starting Epoch {epoch + 1}/10\")\n",
    "    model.train(\n",
    "        data=\"drone.yaml\",\n",
    "        epochs=1,\n",
    "        imgsz=320,\n",
    "        batch=batch_size,\n",
    "        device=device\n",
    "    )\n",
    "    for iteration in range(total_iterations_per_epoch):\n",
    "        print(f\"Epoch {epoch + 1}/10, Iteration {iteration + 1}/{total_iterations_per_epoch}\")\n",
    "    print(f\"Completed Epoch {epoch + 1}/10\")\n",
    "\n",
    "\n"
   ]
  }
 ],
 "metadata": {
  "kernelspec": {
   "display_name": "Python 3",
   "language": "python",
   "name": "python3"
  },
  "language_info": {
   "codemirror_mode": {
    "name": "ipython",
    "version": 3
   },
   "file_extension": ".py",
   "mimetype": "text/x-python",
   "name": "python",
   "nbconvert_exporter": "python",
   "pygments_lexer": "ipython3",
   "version": "3.11.11"
  }
 },
 "nbformat": 4,
 "nbformat_minor": 5
}
